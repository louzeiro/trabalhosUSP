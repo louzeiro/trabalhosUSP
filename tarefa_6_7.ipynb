{
  "nbformat": 4,
  "nbformat_minor": 0,
  "metadata": {
    "colab": {
      "name": "tarefa_6_7.ipynb",
      "provenance": [],
      "collapsed_sections": [],
      "include_colab_link": true
    },
    "kernelspec": {
      "name": "python3",
      "display_name": "Python 3"
    },
    "language_info": {
      "name": "python"
    }
  },
  "cells": [
    {
      "cell_type": "markdown",
      "metadata": {
        "id": "view-in-github",
        "colab_type": "text"
      },
      "source": [
        "<a href=\"https://colab.research.google.com/github/louzeiro/trabalhosUSP/blob/main/tarefa_6_7.ipynb\" target=\"_parent\"><img src=\"https://colab.research.google.com/assets/colab-badge.svg\" alt=\"Open In Colab\"/></a>"
      ]
    },
    {
      "cell_type": "markdown",
      "metadata": {
        "id": "A7m3fDdevkU4"
      },
      "source": [
        "# **Gestão da Qualidade**\n",
        "** **\n",
        "Flaviane Louzeiro da Silva, N° USP: 11885075 <br>\n",
        "Lucas Roberto de O. Lopes, N° : USP: 10850460\n",
        "\n",
        "Tarefa: \n",
        "**Questionário 6 e 7**\n",
        "\n",
        "**Entrega até 02/12 às 18h.**\n",
        "** **"
      ]
    },
    {
      "cell_type": "markdown",
      "metadata": {
        "id": "pSDNJdL1vhb3"
      },
      "source": [
        "**Descrição**: Crie um exemplo hipotético de gestão da qualidade, estabelecendo qual a característica da qualidade em estudo. Supondo que a característica tem distribuição Normal com uma certa média e um certo desvio-padrão, gere 30 amostras de tamanho 5. Em seguida, gere mais 10 amostras de tamanho 5 supondo outros parâmetros para a distribuição da característica da qualidade.  Construa gráficos de controle $\\overline{X} - R$ e gráficos da soma cumulativa, CUSUM tabular ou máscara V. Verifique as diferenças na detecção de anomalias no processo para as técnicas consideradas. Estabeleça os limites de especificação e avalie a capacidade do processo.\n",
        "\n",
        "Você pode utilizar R ou Python, e deve submeter os códigos e um arquivo .pdf ou .html com os resultados comentados, além do arquivo de dados gerados em .csv.\n",
        "\n"
      ]
    },
    {
      "cell_type": "code",
      "metadata": {
        "id": "A-PQaj6Wvgu3"
      },
      "source": [
        "import numpy as np \n",
        "import matplotlib.pyplot as plt\n",
        "import pandas as pd\n",
        "import random\n",
        "import seaborn as sns\n",
        "sns.set_theme(style=\"whitegrid\")\n",
        "\n",
        "%matplotlib inline"
      ],
      "execution_count": null,
      "outputs": []
    },
    {
      "cell_type": "markdown",
      "metadata": {
        "id": "HbKAu8xLLIYp"
      },
      "source": [
        "**Descrição os dados.**\n",
        "\n",
        "Em consequência da pandemia de Covid-19, o refeitório da USP/São Carlos-SP, passou a servir as refeições em marmitas. Porém, nos últimos 2 meses, os frequentadores começaram a reclamar da variabilidade do peso das marmitas. Então com o intuito de analisar o processo, foi solicitado para um grupo de estudantes do curso de Estatística um estudo sobre o caso.\n",
        "\n",
        "Esses estudantes visitaram a área de manipulação e montagem das marmita e conversaram com a nutricionista responsável que definiu que o peso médio de cada marmita deve ser de 500 g e, sabendo que há variabilidade no processo de montagem das marmitas, definiu também o Limite Inferior de Especificação em 450 g e o Limite Superior de Especificação em 550 g. Por fim, os estudantes solicitaram que fossem coletadas 5 amostras por 40 dias, para confeccionar um banco de dados que permitisse uma análise estatística do processo.\n",
        "\n",
        "Então nos 30 primeiros dias foram coletadas as amostras abaixo:\n"
      ]
    },
    {
      "cell_type": "markdown",
      "metadata": {
        "id": "g-MRPXjBJlPF"
      },
      "source": [
        "*Amostras geradas de uma distribuição Normal ($\\mu$=500, $\\sigma^2$=50)*"
      ]
    },
    {
      "cell_type": "code",
      "metadata": {
        "id": "tARJjN3SET4t"
      },
      "source": [
        "np.random.seed(61)\n",
        "media = 500           #\n",
        "desvioP = 50\n",
        "n = 30\n",
        "\n",
        "amostras = []\n",
        "for observacao in range(n):\n",
        "  amostrinhas = np.random.normal(media, desvioP, 5)\n",
        "  amostras.append(amostrinhas)"
      ],
      "execution_count": null,
      "outputs": []
    },
    {
      "cell_type": "markdown",
      "metadata": {
        "id": "hdzpNlBQN_41"
      },
      "source": [
        "Contudo, devido ao encerramento da licitação, outra empresa passou a prestar serviços ao bandejão. Essa empresa recebeu as recomendações da nutricionista quanto as especificações do processo de montagem das marmitas. A análise do processo continuou sendo desenvolvida e foram coletadas as amostras dos últimos 10 dias."
      ]
    },
    {
      "cell_type": "markdown",
      "metadata": {
        "id": "pb4l7c05JoAH"
      },
      "source": [
        "*Amostras geradas de uma distribuição Normal ($\\mu$=530, $\\sigma^2$ = 25)*"
      ]
    },
    {
      "cell_type": "code",
      "metadata": {
        "id": "823rYhMDOQnT"
      },
      "source": [
        "np.random.seed(61)\n",
        "media = 530  \n",
        "desvioP = 25 \n",
        "n = 10 \n",
        "\n",
        "for observacao in range(n):\n",
        "  amostrinhas = np.random.normal(media, desvioP, 5)\n",
        "  amostras.append(amostrinhas) "
      ],
      "execution_count": null,
      "outputs": []
    },
    {
      "cell_type": "markdown",
      "metadata": {
        "id": "1orPewyoaMB9"
      },
      "source": [
        "Por fim, foi construído o conjunto de dados com as amostras coletadas no período.\n"
      ]
    },
    {
      "cell_type": "code",
      "metadata": {
        "colab": {
          "base_uri": "https://localhost:8080/",
          "height": 206
        },
        "id": "5MkByL4ibmWl",
        "outputId": "696e2fdb-f4a6-48c6-eb78-4e49f411eaa1"
      },
      "source": [
        "df_amostras = pd.DataFrame(amostras, columns=['X1','X2','X3','X4','X5'])\n",
        "df_amostras.to_csv('pesoMarmitas.csv', sep='\\t', index=False)\n",
        "df_amostras.head()"
      ],
      "execution_count": null,
      "outputs": [
        {
          "output_type": "execute_result",
          "data": {
            "text/html": [
              "<div>\n",
              "<style scoped>\n",
              "    .dataframe tbody tr th:only-of-type {\n",
              "        vertical-align: middle;\n",
              "    }\n",
              "\n",
              "    .dataframe tbody tr th {\n",
              "        vertical-align: top;\n",
              "    }\n",
              "\n",
              "    .dataframe thead th {\n",
              "        text-align: right;\n",
              "    }\n",
              "</style>\n",
              "<table border=\"1\" class=\"dataframe\">\n",
              "  <thead>\n",
              "    <tr style=\"text-align: right;\">\n",
              "      <th></th>\n",
              "      <th>X1</th>\n",
              "      <th>X2</th>\n",
              "      <th>X3</th>\n",
              "      <th>X4</th>\n",
              "      <th>X5</th>\n",
              "    </tr>\n",
              "  </thead>\n",
              "  <tbody>\n",
              "    <tr>\n",
              "      <th>0</th>\n",
              "      <td>478.425222</td>\n",
              "      <td>521.968777</td>\n",
              "      <td>499.936909</td>\n",
              "      <td>553.056142</td>\n",
              "      <td>510.168239</td>\n",
              "    </tr>\n",
              "    <tr>\n",
              "      <th>1</th>\n",
              "      <td>533.278637</td>\n",
              "      <td>447.819239</td>\n",
              "      <td>435.804446</td>\n",
              "      <td>497.923305</td>\n",
              "      <td>442.601134</td>\n",
              "    </tr>\n",
              "    <tr>\n",
              "      <th>2</th>\n",
              "      <td>493.707852</td>\n",
              "      <td>551.007428</td>\n",
              "      <td>551.481035</td>\n",
              "      <td>496.633578</td>\n",
              "      <td>470.012589</td>\n",
              "    </tr>\n",
              "    <tr>\n",
              "      <th>3</th>\n",
              "      <td>512.008966</td>\n",
              "      <td>389.748354</td>\n",
              "      <td>471.738622</td>\n",
              "      <td>577.124693</td>\n",
              "      <td>534.058727</td>\n",
              "    </tr>\n",
              "    <tr>\n",
              "      <th>4</th>\n",
              "      <td>506.322774</td>\n",
              "      <td>430.986218</td>\n",
              "      <td>462.996646</td>\n",
              "      <td>478.593297</td>\n",
              "      <td>505.780380</td>\n",
              "    </tr>\n",
              "  </tbody>\n",
              "</table>\n",
              "</div>"
            ],
            "text/plain": [
              "           X1          X2          X3          X4          X5\n",
              "0  478.425222  521.968777  499.936909  553.056142  510.168239\n",
              "1  533.278637  447.819239  435.804446  497.923305  442.601134\n",
              "2  493.707852  551.007428  551.481035  496.633578  470.012589\n",
              "3  512.008966  389.748354  471.738622  577.124693  534.058727\n",
              "4  506.322774  430.986218  462.996646  478.593297  505.780380"
            ]
          },
          "metadata": {},
          "execution_count": 4
        }
      ]
    },
    {
      "cell_type": "markdown",
      "metadata": {
        "id": "xQIGzDt39qEQ"
      },
      "source": [
        "Adicionando a média e a amplitude das amostras"
      ]
    },
    {
      "cell_type": "code",
      "metadata": {
        "id": "NjTajP7aQxME",
        "colab": {
          "base_uri": "https://localhost:8080/",
          "height": 206
        },
        "outputId": "38cf7e51-e106-458f-f4e8-f2821dc2243f"
      },
      "source": [
        "df_amostras['X_barra'] = df_amostras.mean(axis=1)\n",
        "df_amostras['R'] = df_amostras.max(axis=1)-df_amostras.min(axis=1)\n",
        "df_amostras.head()"
      ],
      "execution_count": null,
      "outputs": [
        {
          "output_type": "execute_result",
          "data": {
            "text/html": [
              "<div>\n",
              "<style scoped>\n",
              "    .dataframe tbody tr th:only-of-type {\n",
              "        vertical-align: middle;\n",
              "    }\n",
              "\n",
              "    .dataframe tbody tr th {\n",
              "        vertical-align: top;\n",
              "    }\n",
              "\n",
              "    .dataframe thead th {\n",
              "        text-align: right;\n",
              "    }\n",
              "</style>\n",
              "<table border=\"1\" class=\"dataframe\">\n",
              "  <thead>\n",
              "    <tr style=\"text-align: right;\">\n",
              "      <th></th>\n",
              "      <th>X1</th>\n",
              "      <th>X2</th>\n",
              "      <th>X3</th>\n",
              "      <th>X4</th>\n",
              "      <th>X5</th>\n",
              "      <th>X_barra</th>\n",
              "      <th>R</th>\n",
              "    </tr>\n",
              "  </thead>\n",
              "  <tbody>\n",
              "    <tr>\n",
              "      <th>0</th>\n",
              "      <td>478.425222</td>\n",
              "      <td>521.968777</td>\n",
              "      <td>499.936909</td>\n",
              "      <td>553.056142</td>\n",
              "      <td>510.168239</td>\n",
              "      <td>512.711058</td>\n",
              "      <td>74.630920</td>\n",
              "    </tr>\n",
              "    <tr>\n",
              "      <th>1</th>\n",
              "      <td>533.278637</td>\n",
              "      <td>447.819239</td>\n",
              "      <td>435.804446</td>\n",
              "      <td>497.923305</td>\n",
              "      <td>442.601134</td>\n",
              "      <td>471.485352</td>\n",
              "      <td>97.474192</td>\n",
              "    </tr>\n",
              "    <tr>\n",
              "      <th>2</th>\n",
              "      <td>493.707852</td>\n",
              "      <td>551.007428</td>\n",
              "      <td>551.481035</td>\n",
              "      <td>496.633578</td>\n",
              "      <td>470.012589</td>\n",
              "      <td>512.568496</td>\n",
              "      <td>81.468446</td>\n",
              "    </tr>\n",
              "    <tr>\n",
              "      <th>3</th>\n",
              "      <td>512.008966</td>\n",
              "      <td>389.748354</td>\n",
              "      <td>471.738622</td>\n",
              "      <td>577.124693</td>\n",
              "      <td>534.058727</td>\n",
              "      <td>496.935872</td>\n",
              "      <td>187.376338</td>\n",
              "    </tr>\n",
              "    <tr>\n",
              "      <th>4</th>\n",
              "      <td>506.322774</td>\n",
              "      <td>430.986218</td>\n",
              "      <td>462.996646</td>\n",
              "      <td>478.593297</td>\n",
              "      <td>505.780380</td>\n",
              "      <td>476.935863</td>\n",
              "      <td>75.336556</td>\n",
              "    </tr>\n",
              "  </tbody>\n",
              "</table>\n",
              "</div>"
            ],
            "text/plain": [
              "           X1          X2          X3  ...          X5     X_barra           R\n",
              "0  478.425222  521.968777  499.936909  ...  510.168239  512.711058   74.630920\n",
              "1  533.278637  447.819239  435.804446  ...  442.601134  471.485352   97.474192\n",
              "2  493.707852  551.007428  551.481035  ...  470.012589  512.568496   81.468446\n",
              "3  512.008966  389.748354  471.738622  ...  534.058727  496.935872  187.376338\n",
              "4  506.322774  430.986218  462.996646  ...  505.780380  476.935863   75.336556\n",
              "\n",
              "[5 rows x 7 columns]"
            ]
          },
          "metadata": {},
          "execution_count": 5
        }
      ]
    },
    {
      "cell_type": "markdown",
      "metadata": {
        "id": "RSylH4bjZbDq"
      },
      "source": [
        "**Capacidade do Processo**\n",
        "\n",
        "\n"
      ]
    },
    {
      "cell_type": "code",
      "metadata": {
        "id": "aLlFD9QfZiIG"
      },
      "source": [
        " import scipy.stats\n",
        " x_barra_barra = df_amostras['X_barra'].mean(axis=0)\n",
        " r_barra = df_amostras['R'].mean(axis=0)\n",
        " sigma = r_barra/2.326    # valor tabelado para n=5\n",
        "\n",
        " LSE = 550\n",
        " LIE = 450"
      ],
      "execution_count": null,
      "outputs": []
    },
    {
      "cell_type": "markdown",
      "metadata": {
        "id": "IoMDvRoqtmI6"
      },
      "source": [
        "Probabilidade da marmita estar fora dos limites de especificações"
      ]
    },
    {
      "cell_type": "code",
      "metadata": {
        "colab": {
          "base_uri": "https://localhost:8080/"
        },
        "id": "4Bs4aneyh0RQ",
        "outputId": "6a0efdb1-bccf-43c9-dc54-a0e33925fe5a"
      },
      "source": [
        "prob_X_menor_LIE = round(scipy.stats.norm(x_barra_barra, sigma).cdf(LIE),5)\n",
        "prob_X_maior_LSE = round(scipy.stats.norm(x_barra_barra, sigma).cdf(LSE),5)\n",
        "processo = round(prob_X_menor_LIE + 1 - prob_X_maior_LSE, 5)\n",
        "print(\"A probabilidade das marmitas estarem fora dos limites de especificação é de\", processo)"
      ],
      "execution_count": null,
      "outputs": [
        {
          "output_type": "stream",
          "name": "stdout",
          "text": [
            "A probabilidade das marmitas estarem fora dos limites de especificação é de 0.27237\n"
          ]
        }
      ]
    },
    {
      "cell_type": "markdown",
      "metadata": {
        "id": "nGC42pyJoDmL"
      },
      "source": [
        "Razão da capacidade do processo"
      ]
    },
    {
      "cell_type": "code",
      "metadata": {
        "colab": {
          "base_uri": "https://localhost:8080/"
        },
        "id": "0-fdySt7oKD7",
        "outputId": "a09e892e-12ee-4c8c-c7ba-36c3376cfe71"
      },
      "source": [
        "Cp = round((LSE-LIE)/(6*sigma),2)\n",
        "print('A razão da capacidade do processo é', Cp)"
      ],
      "execution_count": null,
      "outputs": [
        {
          "output_type": "stream",
          "name": "stdout",
          "text": [
            "A razão da capacidade do processo é 0.37\n"
          ]
        }
      ]
    },
    {
      "cell_type": "markdown",
      "metadata": {
        "id": "k7f_Q33jFLqE"
      },
      "source": [
        "*Com* isso, observou-se que há muitas marmitas sendo produzidas foram dos limites de especificações."
      ]
    },
    {
      "cell_type": "markdown",
      "metadata": {
        "id": "tu1a84JZQjUD"
      },
      "source": [
        "**Gráficos de controle $\\overline{X} −R  $**"
      ]
    },
    {
      "cell_type": "markdown",
      "metadata": {
        "id": "twRQ_TC6DCJz"
      },
      "source": [
        "Parâmetros "
      ]
    },
    {
      "cell_type": "code",
      "metadata": {
        "id": "R8IjCEghSoIP"
      },
      "source": [
        "r_barra = df_amostras['R'].mean(axis=0)\n",
        "x_barra_barra = df_amostras['X_barra'].mean(axis=0)\n",
        "\n",
        "# valores tabelados para o tamanho da amostra 5\n",
        "A2 = 0.577        \n",
        "D4 = 2.114\n",
        "D3 = 0\n",
        "\n",
        "### limites de controle - X_barra\n",
        "LSC_X_barra = x_barra_barra + A2*r_barra\n",
        "LIC_X_barra = x_barra_barra - A2*r_barra\n",
        "\n",
        "### limites de controle - R\n",
        "LSC_R = D4*r_barra\n",
        "LIC_R = D3*r_barra"
      ],
      "execution_count": null,
      "outputs": []
    },
    {
      "cell_type": "code",
      "metadata": {
        "colab": {
          "base_uri": "https://localhost:8080/",
          "height": 647
        },
        "id": "VvrReKSkbLCE",
        "outputId": "124bc8a8-3e42-492a-cf69-206df3e3d559"
      },
      "source": [
        "# X_barra\n",
        "fig, axs = plt.subplots(2, figsize=(10,10))\n",
        "axs[0].plot(df_amostras['X_barra'], linestyle='-', marker='o', color='black')\n",
        "axs[0].axhline(x_barra_barra, color='blue')\n",
        "axs[0].axhline(LSC_X_barra, color='red', linestyle='dashed')\n",
        "axs[0].axhline(LIC_X_barra, color='red', linestyle='dashed')\n",
        "axs[0].set_title('Gráfico de $\\overline{X}$')\n",
        "axs[0].set(xlabel='Observação', ylabel='Média')\n",
        "\n",
        "# R \n",
        "axs[1].plot(df_amostras['R'], linestyle='-', marker='o', color='black')\n",
        "axs[1].axhline(r_barra, color='blue') \n",
        "axs[1].axhline(LSC_R, color='red', linestyle='dashed')\n",
        "axs[1].axhline(LIC_R, color='red', linestyle='dashed')\n",
        "axs[1].set_ylim(bottom=0)\n",
        "axs[1].set_title('Gráfico de R')\n",
        "axs[1].set(xlabel='Observação', ylabel='R')"
      ],
      "execution_count": null,
      "outputs": [
        {
          "output_type": "execute_result",
          "data": {
            "text/plain": [
              "[Text(0, 0.5, 'R'), Text(0.5, 0, 'Observação')]"
            ]
          },
          "metadata": {},
          "execution_count": 10
        },
        {
          "output_type": "display_data",
          "data": {
            "image/png": "[encoded data removed]",
            "text/plain": [
              "<Figure size 720x720 with 2 Axes>"
            ]
          },
          "metadata": {
            "needs_background": "light"
          }
        }
      ]
    },
    {
      "cell_type": "markdown",
      "metadata": {
        "id": "AND4twpnu0lH"
      },
      "source": [
        "No gráfico de $\\overline{X}$ pode-se observar a variabilidade da média das amostras. Verifica-se que todas as médias ficaram dentro dos limites de controle, contudo a média das últimas amostras ficaram acima do limite central o que configura um padrão indesejável, pois são pontos em uma sequência sempre crescente."
      ]
    },
    {
      "cell_type": "markdown",
      "metadata": {
        "id": "5zmgGBQTvQvC"
      },
      "source": [
        "No gráfico de R é possível observar a amplitude das amostras. Pode-se notar que apenas a observação 20 ficou acima do limite superior de controle. Outro resultado importante, é que as últimas observações estão abaixo do limite central da amplitude, indicando que diminuiu a amplitude das amostras dessas últimas observações."
      ]
    },
    {
      "cell_type": "markdown",
      "metadata": {
        "id": "wvTkyp57Qp52"
      },
      "source": [
        "**Gráficos da soma cumulativa, CUSUM tabular**"
      ]
    },
    {
      "cell_type": "markdown",
      "metadata": {
        "id": "RutdO1xzxGU4"
      },
      "source": [
        "Gráfico CUSUM tabular utilizando a biblioteca pyspc"
      ]
    },
    {
      "cell_type": "code",
      "metadata": {
        "id": "txD9K-Ki4Ana"
      },
      "source": [
        "!pip install pyspc"
      ],
      "execution_count": null,
      "outputs": []
    },
    {
      "cell_type": "code",
      "metadata": {
        "id": "beMr7h_XuubY"
      },
      "source": [
        "df_amostras2 = df_amostras.drop(['X_barra','R'],axis = 1)"
      ],
      "execution_count": null,
      "outputs": []
    },
    {
      "cell_type": "code",
      "metadata": {
        "colab": {
          "base_uri": "https://localhost:8080/",
          "height": 458
        },
        "id": "y7nJ0OSssvYg",
        "outputId": "d6cbc7b0-318a-41c9-8291-b8ea35017133"
      },
      "source": [
        "from pyspc import *\n",
        "plt.rcParams[\"figure.figsize\"] = (8,6)\n",
        "a = spc(df_amostras2) + cusum() + rules()\n",
        "print(a)"
      ],
      "execution_count": null,
      "outputs": [
        {
          "output_type": "display_data",
          "data": {
            "image/png": "[encoded data removed]",
            "text/plain": [
              "<Figure size 576x432 with 1 Axes>"
            ]
          },
          "metadata": {}
        },
        {
          "output_type": "stream",
          "name": "stdout",
          "text": [
            "<pyspc: (8768131575761)>\n"
          ]
        }
      ]
    },
    {
      "cell_type": "markdown",
      "metadata": {
        "id": "5P6hV3ZVwjRG"
      },
      "source": [
        "No gráfico de CUSUM tabular é possivel verificar algumas anomalias logo nas observações 8 e 12, onde esses pontos saem fora dos limites de controle e após a observação 31 todas as observações posteriores saem fora dos limites de controle. Portanto, isso nos permite verificar que com esse gráfico é possivel detectar de forma bem mais rapida que o gráfico de $\\overline{X}$ e R que o processo não está controlado."
      ]
    }
  ]
}